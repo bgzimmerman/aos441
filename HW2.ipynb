{
 "cells": [
  {
   "cell_type": "code",
   "execution_count": 1,
   "metadata": {
    "collapsed": true
   },
   "outputs": [],
   "source": [
    "%matplotlib inline\n",
    "from matplotlib import pyplot as plt\n",
    "import numpy as np"
   ]
  },
  {
   "cell_type": "markdown",
   "metadata": {},
   "source": [
    "# Problem 1\n",
    "This problem makes use of equation 6.5 from Rinehart: $f = \\frac{2V}{\\lambda}$, where $f$ is the frequency shift."
   ]
  },
  {
   "cell_type": "code",
   "execution_count": 2,
   "metadata": {
    "collapsed": false
   },
   "outputs": [
    {
     "name": "stdout",
     "output_type": "stream",
     "text": [
      "Average speed is 97.2 miles per hour\n"
     ]
    }
   ],
   "source": [
    "c = 2.998 * 10**8 # Speed of light, m/s\n",
    "f_radar = 20 * 10**9 # 20 GHz, K-band radar\n",
    "lam_radar = c / f_radar\n",
    "f_shift = 5800 # Frequency shift in Hz\n",
    "ball_speed = (f_shift * lam_radar) / 2 # Speed in m/s\n",
    "ball_speed = ball_speed * 2.23694 # Convert to mph\n",
    "print('Average speed is %.1f miles per hour' % ball_speed)"
   ]
  },
  {
   "cell_type": "code",
   "execution_count": 3,
   "metadata": {
    "collapsed": false
   },
   "outputs": [
    {
     "name": "stdout",
     "output_type": "stream",
     "text": [
      "Can expect a doppler shift of about 5602 Hz\n"
     ]
    }
   ],
   "source": [
    "new_speed = ball_speed - 15.0 # Get new ball speed in mph\n",
    "new_speed = ball_speed / 2.23694 # Convert back to m/s\n",
    "angle = np.deg2rad(15.0)\n",
    "f_shift = 2 * new_speed * np.cos(angle) / lam_radar\n",
    "print('Can expect a doppler shift of about %.0f Hz' % f_shift)\n"
   ]
  },
  {
   "cell_type": "markdown",
   "metadata": {},
   "source": [
    "# Problem 3\n",
    "\n",
    "In this problem, we follow the derivation from lecture 8: Deriving an Analytical Z-R Relation\n",
    "\n",
    "\n",
    "We are given a general modified-gamma size distribution: \n",
    "\n",
    "\n",
    "$N(D) = N_0 D^\\mu e^{-(3.67+\\mu)\\frac{D}{D_0}}$ with the slope parameter implied as $\\Lambda = \\frac{3.67 + \\mu}{D_0}$\n",
    "\n",
    "\n",
    "As well as an equation for raindrop fall speeds:\n",
    "\n",
    "\n",
    "$v(D) = 3.87D^{0.67}$\n",
    "\n",
    "\n",
    "Finally, we are given typical values for $\\mu$ and $D_0$: $3mm$ and $2mm$ for stratiform rain and $2mm$ and $1.5mm$ for convective rain.\n",
    "\n"
   ]
  },
  {
   "cell_type": "markdown",
   "metadata": {},
   "source": [
    "To calculate z, we use the integral $z = \\int_{0}^{\\infty} N(D) D^6 dD$\n",
    "\n",
    "Substituting the provided gamma distribution, this becomes\n",
    "\n",
    "$z=\\int_{0}^{\\infty} N_0 e^{-\\Lambda D}D^{\\mu+6}dD$\n",
    "\n",
    "We are also given an equation for R: $R = \\int_{0}^{\\infty} m(D) N(D) v(D) dD$, basically the mass of the particle times the number times the velocity. Substituting our values and simplifying gives:\n",
    "\n",
    "$R = \\int_{0}^{\\infty} \\frac{3.87 \\pi}{6} \\rho D^{3.67 + \\mu} N_0 e^{-\\Lambda D}dD$\n",
    "\n",
    "Finally, using the 'useful integral' $\\int_{0}^{\\infty} x^m e^{-nx} dx = \\frac{\\Gamma(m+1)}{n^{m+1}}$ we can rewrite both Z and R:"
   ]
  },
  {
   "cell_type": "markdown",
   "metadata": {},
   "source": [
    "For z, $m = \\mu+6$ and $n = \\Lambda$, giving\n",
    "\n",
    "$z = \\frac{N_0 \\Gamma(\\mu + 7)}{\\Lambda^{\\mu + 7}}$\n",
    "\n",
    "Similarly for R, $m = 3.67$ and $n$ is the same as for Z, giving:\n",
    "\n",
    "$R = \\frac{3.87 \\pi \\rho N_0 \\Gamma(4.67)}{6 \\Lambda^{4.67}}$\n",
    "\n",
    "We then divide R by $\\rho$ and multiply by $3.6 * 10^6$ to convert to $\\frac{mm}{hr}$ from $\\frac{m}{s}$ to end with\n",
    "\n",
    "$R = \\frac{3.87 \\pi N_0 \\Gamma(4.67)}{6 \\Lambda^{4.67}} 3.6*10^6$\n",
    "\n",
    "We can now, given a rain rate in $\\frac{mm}{hr}$, solve for N_0, and substitute it into our equation for Z to get a reflectivity."
   ]
  },
  {
   "cell_type": "code",
   "execution_count": 4,
   "metadata": {
    "collapsed": false
   },
   "outputs": [
    {
     "name": "stdout",
     "output_type": "stream",
     "text": [
      "For mu = 3 and D0 = 2, the reflectivity is 23.0dBz\n",
      "For mu = 2 and D0 = 2, the reflectivity is 16.3dBz\n"
     ]
    }
   ],
   "source": [
    "from math import gamma\n",
    "for mu, D0 in zip((3.,2.),(2.,1.5)):\n",
    "    lam = ((3.67 + mu) / D0)\n",
    "    R = 10.\n",
    "\n",
    "    N0 = (6 * lam**4.67 * R) / (3.87 * np.pi * gamma(4.67))\n",
    "    Z = (N0 * gamma(mu + 7)) / lam**(mu+7)\n",
    "    print 'For mu = %.0f and D0 = %.0f, the reflectivity is %.1fdBz' % (mu, D0, 10 * np.log10(Z))\n"
   ]
  },
  {
   "cell_type": "markdown",
   "metadata": {},
   "source": [
    "Huzzah, the difference is about 6.7 dBZ, definitely not insignificant."
   ]
  },
  {
   "cell_type": "markdown",
   "metadata": {},
   "source": [
    "If the radar volume contained just one 10-cm water-coated hailstone, we could calculate the reflectivity like so:\n",
    "\n",
    "$z = \\frac{\\sum{D_j^6}}{V_c}$ \n",
    "\n",
    "if $D = 100mm$ and $V_c = 10^7m^3$, then \n",
    "\n",
    "$z = \\frac{(100mm)^6}{10^7m^3} = 10000 \\frac{mm^6}{m^3}$ which gives\n",
    "\n",
    "$Z = 10log_{10}(100000) = 50dBz$\n"
   ]
  }
 ],
 "metadata": {
  "kernelspec": {
   "display_name": "Python 2",
   "language": "python",
   "name": "python2"
  },
  "language_info": {
   "codemirror_mode": {
    "name": "ipython",
    "version": 2
   },
   "file_extension": ".py",
   "mimetype": "text/x-python",
   "name": "python",
   "nbconvert_exporter": "python",
   "pygments_lexer": "ipython2",
   "version": "2.7.12"
  }
 },
 "nbformat": 4,
 "nbformat_minor": 0
}
